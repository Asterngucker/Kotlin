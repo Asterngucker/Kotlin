{
 "cells": [
  {
   "cell_type": "code",
   "execution_count": 83,
   "id": "98d8cd6c",
   "metadata": {},
   "outputs": [],
   "source": [
    "import java.io.File\n",
    "import java.io.Reader"
   ]
  },
  {
   "cell_type": "code",
   "execution_count": 84,
   "id": "d5df547f",
   "metadata": {},
   "outputs": [
    {
     "name": "stdout",
     "output_type": "stream",
     "text": [
      "Kotlin is a modern and powerful programming language that was developed by JetBrains in 2011\n",
      "\n",
      "It is a general-purpose language designed to be concise, expressive, and safe\n",
      "\n",
      "Kotlin is fully compatible with Java, which means it can be seamlessly integrated with existing Java codebases\n",
      "\n",
      "It can be used for developing Android applications, web applications, server-side applications, and more\n",
      "\n",
      "Kotlin has a number of features that make it stand out from other programming languages\n",
      "\n",
      "For example, it provides null safety through its type system, which eliminates the possibility of the dreaded null pointer exceptions\n",
      "\n",
      "It has also streamlined the syntax of many common programming tasks, making code cleaner and more concise\n",
      "\n",
      "Another major advantage of Kotlin is its interoperability with Java\n",
      "\n",
      "Kotlin compiles to JVM bytecode, which means that it can run on any platform that supports Java, including Android\n",
      "\n",
      "This allows developers to take advantage of Kotlin's features without having to abandon their existing Java codebase\n",
      "\n",
      "In addition to its compatibility with Java, Kotlin also offers powerful features that make it easier to write high-quality software\n",
      "\n",
      "For example, it has first-class support for functional programming constructs like lambdas and higher-order functions\n",
      "\n",
      "It also includes coroutines, which allow for asynchronous programming without the complexity of traditional multithreading\n",
      "\n",
      "Overall, Kotlin is a powerful and versatile programming language that offers a modern approach to software development\n",
      "\n",
      "Its clean syntax, powerful features, compatibility with Java, and strong community support make it an excellent choice for any project.\n",
      "\n"
     ]
    }
   ],
   "source": [
    "val file_input = File(\"input.txt\")\n",
    "var fileExists = file_input.exists()\n",
    "if(!fileExists){\n",
    "    print(\"input file does not exist. You need to create input file with text.\")\n",
    "}\n",
    "var bytes:ByteArray = file_input.readBytes()\n",
    "val text = file_input.readText()\n",
    "val result = text.split(\". \")\n",
    "for (item in result){\n",
    "    println(item + \"\\n\")\n",
    "}"
   ]
  },
  {
   "cell_type": "code",
   "execution_count": 85,
   "id": "3e6099f6",
   "metadata": {},
   "outputs": [],
   "source": [
    "val fileName = \"answer.txt\"\n",
    "var fileObject = File(fileName)\n",
    "val size = result.size\n",
    "var i = 1\n",
    "for (item in result){\n",
    "    if (i != size){\n",
    "        fileObject.appendText(item + \".\" + \"\\n\")\n",
    "    }\n",
    "    else{\n",
    "        fileObject.appendText(item + \"\\n\")\n",
    "    }\n",
    "    i = i + 1\n",
    "//так как последнее предложение сохраняет точку (в процессе разделения текста на предложения),\n",
    "//не дописываем точку в конец\n",
    "}"
   ]
  },
  {
   "cell_type": "code",
   "execution_count": 86,
   "id": "f123f6cc",
   "metadata": {},
   "outputs": [
    {
     "name": "stdout",
     "output_type": "stream",
     "text": [
      "Quantity of sentences: 15\n",
      "\n",
      "Quantity of words in each sentence: \n",
      "1 - 15\n",
      "2 - 12\n",
      "3 - 17\n",
      "4 - 14\n",
      "5 - 15\n",
      "6 - 20\n",
      "7 - 17\n",
      "8 - 10\n",
      "9 - 19\n",
      "10 - 17\n",
      "11 - 20\n",
      "12 - 15\n",
      "13 - 15\n",
      "14 - 17\n",
      "15 - 20\n"
     ]
    }
   ],
   "source": [
    "println(\"Quantity of sentences: \" + result.size)\n",
    "println(\"Quantity of words in each sentence: \")\n",
    "fileObject.appendText(\"\\n\" + \"Quantity of sentences: \" + result.size + \"\\n\")\n",
    "fileObject.appendText(\"Quantity of words in each sentence: \" + \"\\n\")\n",
    "var i = 1\n",
    "for (item in result){\n",
    "    var current_sentence = item.split(\" \")\n",
    "    println(i.toString() + \" - \" + current_sentence.size)\n",
    "    fileObject.appendText(i.toString() + \" - \" + current_sentence.size + \"\\n\")\n",
    "    i = i + 1\n",
    "}"
   ]
  },
  {
   "cell_type": "code",
   "execution_count": null,
   "id": "3ff1876a",
   "metadata": {},
   "outputs": [],
   "source": []
  }
 ],
 "metadata": {
  "kernelspec": {
   "display_name": "Kotlin",
   "language": "kotlin",
   "name": "kotlin"
  },
  "language_info": {
   "codemirror_mode": "text/x-kotlin",
   "file_extension": ".kt",
   "mimetype": "text/x-kotlin",
   "name": "kotlin",
   "nbconvert_exporter": "",
   "pygments_lexer": "kotlin",
   "version": "1.8.0-RC"
  }
 },
 "nbformat": 4,
 "nbformat_minor": 5
}
